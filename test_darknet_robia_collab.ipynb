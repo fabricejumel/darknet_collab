{
  "nbformat": 4,
  "nbformat_minor": 0,
  "metadata": {
    "colab": {
      "name": "test_darknet_robia_collab.ipynb",
      "provenance": [],
      "include_colab_link": true
    },
    "kernelspec": {
      "name": "python3",
      "display_name": "Python 3"
    },
    "accelerator": "GPU"
  },
  "cells": [
    {
      "cell_type": "markdown",
      "metadata": {
        "id": "view-in-github",
        "colab_type": "text"
      },
      "source": [
        "<a href=\"https://colab.research.google.com/github/fabricejumel/darknet_collab/blob/main/test_darknet_robia_collab.ipynb\" target=\"_parent\"><img src=\"https://colab.research.google.com/assets/colab-badge.svg\" alt=\"Open In Colab\"/></a>"
      ]
    },
    {
      "cell_type": "markdown",
      "metadata": {
        "id": "XslIpfPyf3Td"
      },
      "source": [
        "1er étape:\n",
        "Vérifier la carte graphique utilisé par votre google collab (si pas de carte graphique,changer le mode d'execution en GPU dans l'onglet execution) On repere par exemple ici qu'il s'agit d'une Tesla K80.\n",
        "\n",
        "https://arnon.dk/matching-sm-architectures-arch-and-gencode-for-various-nvidia-cards/\n",
        "\n",
        "\n",
        " Fan  Temp  Perf  Pwr:Usage/Cap|         Memory-Usage | GPU-Util  Compute M. |\n",
        "|                               |                      |               MIG M. |\n",
        "|===============================+======================+======================|\n",
        "|   0  Tesla K80           Off  | 00000000:00:04.0 Off |                    0 |\n",
        "| N/A   35C    P8    28W / 149W |      0MiB / 11441MiB |      0%      Default |\n",
        "|                               |                      |                  N/A |\n",
        "+-------------------------------+----------------------+----------------------+"
      ]
    },
    {
      "cell_type": "code",
      "metadata": {
        "id": "8Cn6wI1tn2gQ",
        "colab": {
          "base_uri": "https://localhost:8080/"
        },
        "outputId": "1c44663e-4a1a-4b70-fc13-9cb0a74137e1"
      },
      "source": [
        "!nvidia-smi"
      ],
      "execution_count": null,
      "outputs": [
        {
          "output_type": "stream",
          "name": "stdout",
          "text": [
            "Wed Oct 20 10:21:28 2021       \n",
            "+-----------------------------------------------------------------------------+\n",
            "| NVIDIA-SMI 470.74       Driver Version: 460.32.03    CUDA Version: 11.2     |\n",
            "|-------------------------------+----------------------+----------------------+\n",
            "| GPU  Name        Persistence-M| Bus-Id        Disp.A | Volatile Uncorr. ECC |\n",
            "| Fan  Temp  Perf  Pwr:Usage/Cap|         Memory-Usage | GPU-Util  Compute M. |\n",
            "|                               |                      |               MIG M. |\n",
            "|===============================+======================+======================|\n",
            "|   0  Tesla K80           Off  | 00000000:00:04.0 Off |                    0 |\n",
            "| N/A   36C    P8    28W / 149W |      0MiB / 11441MiB |      0%      Default |\n",
            "|                               |                      |                  N/A |\n",
            "+-------------------------------+----------------------+----------------------+\n",
            "                                                                               \n",
            "+-----------------------------------------------------------------------------+\n",
            "| Processes:                                                                  |\n",
            "|  GPU   GI   CI        PID   Type   Process name                  GPU Memory |\n",
            "|        ID   ID                                                   Usage      |\n",
            "|=============================================================================|\n",
            "|  No running processes found                                                 |\n",
            "+-----------------------------------------------------------------------------+\n"
          ]
        }
      ]
    },
    {
      "cell_type": "markdown",
      "metadata": {
        "id": "mwmKi4Sbf3rm"
      },
      "source": []
    },
    {
      "cell_type": "markdown",
      "metadata": {
        "id": "pnR1L_v8f40m"
      },
      "source": [
        "Si usage de google drive :\n"
      ]
    },
    {
      "cell_type": "code",
      "metadata": {
        "id": "2D5OdFXQoNpI",
        "colab": {
          "base_uri": "https://localhost:8080/"
        },
        "outputId": "4ade6a75-3652-4b7a-f863-0293ef6e7373"
      },
      "source": [
        "#from google.colab import drive\n",
        "#drive.mount('/content/gdrive')\n"
      ],
      "execution_count": null,
      "outputs": [
        {
          "output_type": "stream",
          "name": "stdout",
          "text": [
            "Mounted at /content/gdrive\n"
          ]
        }
      ]
    },
    {
      "cell_type": "code",
      "metadata": {
        "id": "05oX49L1j5ao"
      },
      "source": [
        "\n",
        "#!ln -s /content/gdrive/MyDrive/darknet/darknet /darknet\n"
      ],
      "execution_count": null,
      "outputs": []
    },
    {
      "cell_type": "code",
      "metadata": {
        "id": "bv-E5peKgJH9"
      },
      "source": [
        "#%cd /darknet\n",
        "!ls\n"
      ],
      "execution_count": null,
      "outputs": []
    },
    {
      "cell_type": "markdown",
      "metadata": {
        "id": "tGoosn2LMnbF"
      },
      "source": [
        "Si usage github :"
      ]
    },
    {
      "cell_type": "code",
      "metadata": {
        "id": "wdgOVZ4sIlBy",
        "colab": {
          "base_uri": "https://localhost:8080/"
        },
        "outputId": "da8bc1fe-d89e-4b08-9401-f3bb34ffe68b"
      },
      "source": [
        "!git clone https://github.com/fabricejumel/darknet\n",
        "%cd darknet\n",
        "!git checkout feature/google-colab"
      ],
      "execution_count": null,
      "outputs": [
        {
          "output_type": "stream",
          "name": "stdout",
          "text": [
            "Cloning into 'darknet'...\n",
            "remote: Enumerating objects: 10094, done.\u001b[K\n",
            "remote: Counting objects: 100% (14/14), done.\u001b[K\n",
            "remote: Compressing objects: 100% (11/11), done.\u001b[K\n",
            "remote: Total 10094 (delta 4), reused 6 (delta 2), pack-reused 10080\n",
            "Receiving objects: 100% (10094/10094), 90.83 MiB | 23.27 MiB/s, done.\n",
            "Resolving deltas: 100% (6751/6751), done.\n",
            "/content/darknet\n",
            "Branch 'feature/google-colab' set up to track remote branch 'feature/google-colab' from 'origin'.\n",
            "Switched to a new branch 'feature/google-colab'\n"
          ]
        }
      ]
    },
    {
      "cell_type": "code",
      "metadata": {
        "id": "r67D0tjM7qdC",
        "outputId": "6ea26146-3885-4b68-e6cd-d150586b80e3",
        "colab": {
          "base_uri": "https://localhost:8080/"
        }
      },
      "source": [
        "!make"
      ],
      "execution_count": null,
      "outputs": [
        {
          "output_type": "stream",
          "name": "stdout",
          "text": [
            "chmod +x *.sh\n"
          ]
        }
      ]
    },
    {
      "cell_type": "code",
      "metadata": {
        "id": "KWdHrdzc2qXS",
        "outputId": "ed604e82-10fe-4e6f-94db-208d65457133",
        "colab": {
          "base_uri": "https://localhost:8080/",
          "height": 322
        }
      },
      "source": [
        "#!wget https://pjreddie.com/media/files/yolov3.weights\n",
        "#import darknet\n",
        "#print(darknet.performDetect())"
      ],
      "execution_count": null,
      "outputs": [
        {
          "output_type": "error",
          "ename": "ValueError",
          "evalue": "ignored",
          "traceback": [
            "\u001b[0;31m---------------------------------------------------------------------------\u001b[0m",
            "\u001b[0;31mValueError\u001b[0m                                Traceback (most recent call last)",
            "\u001b[0;32m<ipython-input-8-50037bfe7358>\u001b[0m in \u001b[0;36m<module>\u001b[0;34m()\u001b[0m\n\u001b[1;32m      1\u001b[0m \u001b[0;32mimport\u001b[0m \u001b[0mdarknet\u001b[0m\u001b[0;34m\u001b[0m\u001b[0;34m\u001b[0m\u001b[0m\n\u001b[0;32m----> 2\u001b[0;31m \u001b[0mprint\u001b[0m\u001b[0;34m(\u001b[0m\u001b[0mdarknet\u001b[0m\u001b[0;34m.\u001b[0m\u001b[0mperformDetect\u001b[0m\u001b[0;34m(\u001b[0m\u001b[0;34m)\u001b[0m\u001b[0;34m)\u001b[0m\u001b[0;34m\u001b[0m\u001b[0;34m\u001b[0m\u001b[0m\n\u001b[0m",
            "\u001b[0;32m/content/darknet/darknet.py\u001b[0m in \u001b[0;36mperformDetect\u001b[0;34m(imagePath, thresh, configPath, weightPath, metaPath, showImage, makeImageOnly, initOnly)\u001b[0m\n\u001b[1;32m    345\u001b[0m         \u001b[0;32mraise\u001b[0m \u001b[0mValueError\u001b[0m\u001b[0;34m(\u001b[0m\u001b[0;34m\"Invalid config path `\"\u001b[0m\u001b[0;34m+\u001b[0m\u001b[0mos\u001b[0m\u001b[0;34m.\u001b[0m\u001b[0mpath\u001b[0m\u001b[0;34m.\u001b[0m\u001b[0mabspath\u001b[0m\u001b[0;34m(\u001b[0m\u001b[0mconfigPath\u001b[0m\u001b[0;34m)\u001b[0m\u001b[0;34m+\u001b[0m\u001b[0;34m\"`\"\u001b[0m\u001b[0;34m)\u001b[0m\u001b[0;34m\u001b[0m\u001b[0;34m\u001b[0m\u001b[0m\n\u001b[1;32m    346\u001b[0m     \u001b[0;32mif\u001b[0m \u001b[0;32mnot\u001b[0m \u001b[0mos\u001b[0m\u001b[0;34m.\u001b[0m\u001b[0mpath\u001b[0m\u001b[0;34m.\u001b[0m\u001b[0mexists\u001b[0m\u001b[0;34m(\u001b[0m\u001b[0mweightPath\u001b[0m\u001b[0;34m)\u001b[0m\u001b[0;34m:\u001b[0m\u001b[0;34m\u001b[0m\u001b[0;34m\u001b[0m\u001b[0m\n\u001b[0;32m--> 347\u001b[0;31m         \u001b[0;32mraise\u001b[0m \u001b[0mValueError\u001b[0m\u001b[0;34m(\u001b[0m\u001b[0;34m\"Invalid weight path `\"\u001b[0m\u001b[0;34m+\u001b[0m\u001b[0mos\u001b[0m\u001b[0;34m.\u001b[0m\u001b[0mpath\u001b[0m\u001b[0;34m.\u001b[0m\u001b[0mabspath\u001b[0m\u001b[0;34m(\u001b[0m\u001b[0mweightPath\u001b[0m\u001b[0;34m)\u001b[0m\u001b[0;34m+\u001b[0m\u001b[0;34m\"`\"\u001b[0m\u001b[0;34m)\u001b[0m\u001b[0;34m\u001b[0m\u001b[0;34m\u001b[0m\u001b[0m\n\u001b[0m\u001b[1;32m    348\u001b[0m     \u001b[0;32mif\u001b[0m \u001b[0;32mnot\u001b[0m \u001b[0mos\u001b[0m\u001b[0;34m.\u001b[0m\u001b[0mpath\u001b[0m\u001b[0;34m.\u001b[0m\u001b[0mexists\u001b[0m\u001b[0;34m(\u001b[0m\u001b[0mmetaPath\u001b[0m\u001b[0;34m)\u001b[0m\u001b[0;34m:\u001b[0m\u001b[0;34m\u001b[0m\u001b[0;34m\u001b[0m\u001b[0m\n\u001b[1;32m    349\u001b[0m         \u001b[0;32mraise\u001b[0m \u001b[0mValueError\u001b[0m\u001b[0;34m(\u001b[0m\u001b[0;34m\"Invalid data file path `\"\u001b[0m\u001b[0;34m+\u001b[0m\u001b[0mos\u001b[0m\u001b[0;34m.\u001b[0m\u001b[0mpath\u001b[0m\u001b[0;34m.\u001b[0m\u001b[0mabspath\u001b[0m\u001b[0;34m(\u001b[0m\u001b[0mmetaPath\u001b[0m\u001b[0;34m)\u001b[0m\u001b[0;34m+\u001b[0m\u001b[0;34m\"`\"\u001b[0m\u001b[0;34m)\u001b[0m\u001b[0;34m\u001b[0m\u001b[0;34m\u001b[0m\u001b[0m\n",
            "\u001b[0;31mValueError\u001b[0m: Invalid weight path `/content/darknet/yolov3.weights`"
          ]
        }
      ]
    },
    {
      "cell_type": "code",
      "metadata": {
        "id": "7xEgodHp6FZa",
        "colab": {
          "base_uri": "https://localhost:8080/"
        },
        "outputId": "11bb6f0c-a43f-42fa-9cdc-15f39ad9604b"
      },
      "source": [
        "#!./darknet detector test ./cfg/coco.data ./cfg/yolov3.cfg ./yolov3.weights data/dog.jpg -i 0 -thresh 0.25\n",
        "!./darknet detector test ./cfg/coco.data ./cfg/yolov3-tiny.cfg ./yolov3-tiny.weights data/dog.jpg -i 0 -thresh 0.25\n",
        "#!./darknet detector test ycb.data /darknet/YOLOV3_YCB_tiny/yolov3-tiny-ycb.cfg /darknet/backup/yolov3-tiny-ycb-training_1000.weights ycb-test.jpg -i 0 -thresh 0.01\n",
        "#!./darknet detector test ycb.data /darknet/YOLOV3_YCB_tiny/yolov3-tiny-ycb.cfg ./backup/yolov3-tiny-ycb.weights ycb-test.jpg -i 0 -thresh 0.25\n",
        "\n",
        "#!./darknet detector train  ycb.data  /darknet/YOLOV3_YCB_tiny/yolov3-tiny-ycb-training.cfg yolov3-tiny.conv.15 -dont_show\n",
        "#!./darknet detector train  ycb.data  /darknet/YOLOV3_YCB_tiny/yolov3-tiny-ycb-training.cfg backup/yolov3-tiny-ycb-training_9000.weights -dont_show\n"
      ],
      "execution_count": null,
      "outputs": [
        {
          "output_type": "stream",
          "name": "stdout",
          "text": [
            "layer     filters    size              input                output\n",
            "   0 conv     16  3 x 3 / 1   416 x 416 x   3   ->   416 x 416 x  16 0.150 BF\n",
            "   1 max          2 x 2 / 2   416 x 416 x  16   ->   208 x 208 x  16 0.003 BF\n",
            "   2 conv     32  3 x 3 / 1   208 x 208 x  16   ->   208 x 208 x  32 0.399 BF\n",
            "   3 max          2 x 2 / 2   208 x 208 x  32   ->   104 x 104 x  32 0.001 BF\n",
            "   4 conv     64  3 x 3 / 1   104 x 104 x  32   ->   104 x 104 x  64 0.399 BF\n",
            "   5 max          2 x 2 / 2   104 x 104 x  64   ->    52 x  52 x  64 0.001 BF\n",
            "   6 conv    128  3 x 3 / 1    52 x  52 x  64   ->    52 x  52 x 128 0.399 BF\n",
            "   7 max          2 x 2 / 2    52 x  52 x 128   ->    26 x  26 x 128 0.000 BF\n",
            "   8 conv    256  3 x 3 / 1    26 x  26 x 128   ->    26 x  26 x 256 0.399 BF\n",
            "   9 max          2 x 2 / 2    26 x  26 x 256   ->    13 x  13 x 256 0.000 BF\n",
            "  10 conv    512  3 x 3 / 1    13 x  13 x 256   ->    13 x  13 x 512 0.399 BF\n",
            "  11 max          2 x 2 / 1    13 x  13 x 512   ->    13 x  13 x 512 0.000 BF\n",
            "  12 conv   1024  3 x 3 / 1    13 x  13 x 512   ->    13 x  13 x1024 1.595 BF\n",
            "  13 conv    256  1 x 1 / 1    13 x  13 x1024   ->    13 x  13 x 256 0.089 BF\n",
            "  14 conv    512  3 x 3 / 1    13 x  13 x 256   ->    13 x  13 x 512 0.399 BF\n",
            "  15 conv    255  1 x 1 / 1    13 x  13 x 512   ->    13 x  13 x 255 0.044 BF\n",
            "  16 yolo\n",
            "  17 route  13\n",
            "  18 conv    128  1 x 1 / 1    13 x  13 x 256   ->    13 x  13 x 128 0.011 BF\n",
            "  19 upsample            2x    13 x  13 x 128   ->    26 x  26 x 128\n",
            "  20 route  19 8\n",
            "  21 conv    256  3 x 3 / 1    26 x  26 x 384   ->    26 x  26 x 256 1.196 BF\n",
            "  22 conv    255  1 x 1 / 1    26 x  26 x 256   ->    26 x  26 x 255 0.088 BF\n",
            "  23 yolo\n",
            "Total BFLOPS 5.571 \n",
            " Allocate additional workspace_size = 12.46 MB \n",
            "Loading weights from ./yolov3-tiny.weights...\n",
            " seen 64 \n",
            "Done!\n",
            "data/dog.jpg: Predicted in 15.853000 milli-seconds.\n",
            "dog: 81%\n",
            "bicycle: 38%\n",
            "car: 71%\n",
            "truck: 41%\n",
            "truck: 62%\n",
            "car: 39%\n",
            "Unable to init server: Could not connect: Connection refused\n",
            "\n",
            "(predictions:996): Gtk-\u001b[1;33mWARNING\u001b[0m **: \u001b[34m10:23:53.117\u001b[0m: cannot open display: \n"
          ]
        }
      ]
    },
    {
      "cell_type": "code",
      "metadata": {
        "id": "kDzTofllEzb-"
      },
      "source": [
        "#!./darknet detector train  ycb.data  /darknet/YOLOV3_YCB_tiny/yolov3-tiny-ycb-training.cfg yolov3-tiny.conv.15 -dont_show"
      ],
      "execution_count": null,
      "outputs": []
    },
    {
      "cell_type": "code",
      "metadata": {
        "id": "Gu9J2WF8kt2w"
      },
      "source": [
        "#!./darknet partial cfg/yolov3-tiny.cfg yolov3-tiny.weights yolov3-tiny.conv.15 15"
      ],
      "execution_count": null,
      "outputs": []
    },
    {
      "cell_type": "code",
      "metadata": {
        "id": "hmuyLH6QL_jV"
      },
      "source": [],
      "execution_count": null,
      "outputs": []
    }
  ]
}